{
  "nbformat": 4,
  "nbformat_minor": 0,
  "metadata": {
    "colab": {
      "name": "Dados do Airbnb para a cidade de Porto - PT.ipynb",
      "provenance": [],
      "toc_visible": true,
      "authorship_tag": "ABX9TyPvCuZMXrk5Ww7JFUGM+/Cg",
      "include_colab_link": true
    },
    "kernelspec": {
      "name": "python3",
      "display_name": "Python 3"
    },
    "language_info": {
      "name": "python"
    }
  },
  "cells": [
    {
      "cell_type": "markdown",
      "metadata": {
        "id": "view-in-github",
        "colab_type": "text"
      },
      "source": [
        "<a href=\"https://colab.research.google.com/github/rodrigowe1988/Data-Science-na-Pratica/blob/main/Dados_do_Airbnb_para_a_cidade_de_Porto_PT.ipynb\" target=\"_parent\"><img src=\"https://colab.research.google.com/assets/colab-badge.svg\" alt=\"Open In Colab\"/></a>"
      ]
    },
    {
      "cell_type": "markdown",
      "metadata": {
        "id": "YZ-u6iBxWquD"
      },
      "source": [
        "#Análise dos Dados do Airbnb - Porto (norte de Portugal)\n",
        "\n",
        "O [Airbnb](https://www.airbnb.com.br/?landing_page_section=HEADER) já é considerado **a maior empresa hoteleira da atualidade**, detalhe: não possui nenhum hotel. \n",
        "\n",
        "Com o intuito de conectar pessoas que precisam de um lugar para hospedarem-se com anfitriões que querem alugar seus imóveis de maneira prática, o Airbnb fornece uma plataforma inovadora para tornar essa hospedagem alternativa.\n",
        "\n",
        "No final de 2018, a Startup criada 10 anos antes, já havia hospedado __mais de 300 milhões de pessoas__ ao redor de todo o mundo.\n",
        "\n",
        "Uma das iniciativas do Airbnv é disponibilizar dados do site, para algumas das principais cidades do mundo. Por meio do portal [Inside Airbnb](http://insideairbnb.com/get-the-data.html) é possível baixar uma grande quantidade de dados para se desenvolver projetos e soluções de Data Science.\n",
        "\n",
        "A seguir iremos analisar os dados referente à cidade de Porto no norte de Portugal.\n",
        "\n",
        "<img src=\"https://viagemeturismo.abril.com.br/wp-content/uploads/2017/05/istock-533960357-1.jpg?resize=920,613\">\n",
        "\n",
        "Porto é uma cidade costeira no noroeste de Portugal conhecida pelas pontes imponentes e pela produção de vinho do Porto. No distrito medieval de Ribeira, às margens do rio, ruas estreitas de paralelepípedos passam pelas casas e pelos restaurantes dos comerciantes. A Igreja de São Francisco é conhecida pelo interior barroco exuberante com esculturas douradas ornamentadas. O suntuoso Palácio da Bolsa, do século XIX, era um mercado de ações e foi construído para impressionar investidores europeus em potencial. "
      ]
    },
    {
      "cell_type": "markdown",
      "metadata": {
        "id": "xuO9Op92eNF8"
      },
      "source": [
        "##Obtenção dos dados\n",
        "\n",
        "Todos os dados usados nesse notebook foram obtidos do site [Inside Airbnb](http://insideairbnb.com/get-the-data.html)\n",
        "\n",
        "Para essa análise, foi utilizado somente o arquivo listings.csv da cidade do Porto em Portugal."
      ]
    },
    {
      "cell_type": "code",
      "metadata": {
        "id": "mkoA41_eWnFD"
      },
      "source": [
        "#importando os pacotes necessários \n",
        "import pandas as pd\n",
        "import matplotlib.pyplot as plt\n",
        "import seaborn as sns\n",
        "\n",
        "%matplotlib inline"
      ],
      "execution_count": 3,
      "outputs": []
    },
    {
      "cell_type": "code",
      "metadata": {
        "id": "-jHxltSWb0BP"
      },
      "source": [
        "#importar o arquivo do Airbnb com os dados da cidade de Porto\n",
        "df = pd.read_csv(\"http://data.insideairbnb.com/portugal/norte/porto/2021-02-13/visualisations/listings.csv\")"
      ],
      "execution_count": 4,
      "outputs": []
    },
    {
      "cell_type": "markdown",
      "metadata": {
        "id": "HZz1EwL7WrOI"
      },
      "source": [
        "Análise dos Dados\n",
        "Dicionário das variáveis\n",
        "\n",
        "* id - número de id gerado para identificar o imóvel\n",
        "\n",
        "* name - nome da propriedade anunciada\n",
        "\n",
        "* host_id - número de id do proprietário (anfitrião) da propriedade\n",
        "\n",
        "* host_name - Nome do anfitrião\n",
        "\n",
        "* neighbourhood_group - esta coluna não contém nenhum valor válido\n",
        "\n",
        "* neighbourhood - nome do bairro\n",
        "\n",
        "* latitude - coordenada da latitude da propriedade\n",
        "\n",
        "* longitude - coordenada da longitude da propriedade\n",
        "\n",
        "* room_type - informa o tipo de quarto que é oferecido\n",
        "\n",
        "* price - preço para alugar o imóvel\n",
        "\n",
        "* minimum_nights - quantidade mínima de noites para reservar\n",
        "\n",
        "* number_of_reviews - número de reviews que a propriedade possui\n",
        "\n",
        "* last_review - data do último review\n",
        "\n",
        "* reviews_per_month - quantidade de reviews por mês\n",
        "\n",
        "* calculated_host_listings_count - quantidade de imóveis do mesmo anfitrião\n",
        "\n",
        "* availability_365 - número de dias de disponibilidade dentro de 365 dias\n",
        "\n",
        "Antes de iniciar qualquer análise, vamos verificar a cara do nosso dataset, analisando as 5 primeiras entradas."
      ]
    },
    {
      "cell_type": "code",
      "metadata": {
        "colab": {
          "base_uri": "https://localhost:8080/",
          "height": 517
        },
        "id": "Sb8DLeH4fRFe",
        "outputId": "2d546aa0-f4b9-41a1-fc39-6979fe300a24"
      },
      "source": [
        "#imprimindo na tela as 5 primeiras entradas do DataFrame\n",
        "df.head()"
      ],
      "execution_count": 4,
      "outputs": [
        {
          "output_type": "execute_result",
          "data": {
            "text/html": [
              "<div>\n",
              "<style scoped>\n",
              "    .dataframe tbody tr th:only-of-type {\n",
              "        vertical-align: middle;\n",
              "    }\n",
              "\n",
              "    .dataframe tbody tr th {\n",
              "        vertical-align: top;\n",
              "    }\n",
              "\n",
              "    .dataframe thead th {\n",
              "        text-align: right;\n",
              "    }\n",
              "</style>\n",
              "<table border=\"1\" class=\"dataframe\">\n",
              "  <thead>\n",
              "    <tr style=\"text-align: right;\">\n",
              "      <th></th>\n",
              "      <th>id</th>\n",
              "      <th>name</th>\n",
              "      <th>host_id</th>\n",
              "      <th>host_name</th>\n",
              "      <th>neighbourhood_group</th>\n",
              "      <th>neighbourhood</th>\n",
              "      <th>latitude</th>\n",
              "      <th>longitude</th>\n",
              "      <th>room_type</th>\n",
              "      <th>price</th>\n",
              "      <th>minimum_nights</th>\n",
              "      <th>number_of_reviews</th>\n",
              "      <th>last_review</th>\n",
              "      <th>reviews_per_month</th>\n",
              "      <th>calculated_host_listings_count</th>\n",
              "      <th>availability_365</th>\n",
              "    </tr>\n",
              "  </thead>\n",
              "  <tbody>\n",
              "    <tr>\n",
              "      <th>0</th>\n",
              "      <td>41339</td>\n",
              "      <td>Porto city flat near the sea</td>\n",
              "      <td>180050</td>\n",
              "      <td>Paula</td>\n",
              "      <td>PORTO</td>\n",
              "      <td>Lordelo do Ouro e Massarelos</td>\n",
              "      <td>41.15010</td>\n",
              "      <td>-8.66035</td>\n",
              "      <td>Entire home/apt</td>\n",
              "      <td>75</td>\n",
              "      <td>5</td>\n",
              "      <td>17</td>\n",
              "      <td>2018-09-28</td>\n",
              "      <td>0.18</td>\n",
              "      <td>1</td>\n",
              "      <td>222</td>\n",
              "    </tr>\n",
              "    <tr>\n",
              "      <th>1</th>\n",
              "      <td>42462</td>\n",
              "      <td>Large Penthouse in Vila Nova Gaia</td>\n",
              "      <td>185492</td>\n",
              "      <td>Gabriela</td>\n",
              "      <td>VILA NOVA DE GAIA</td>\n",
              "      <td>Mafamude e Vilar do Paraíso</td>\n",
              "      <td>41.10739</td>\n",
              "      <td>-8.59430</td>\n",
              "      <td>Entire home/apt</td>\n",
              "      <td>73</td>\n",
              "      <td>30</td>\n",
              "      <td>39</td>\n",
              "      <td>2018-10-14</td>\n",
              "      <td>0.39</td>\n",
              "      <td>3</td>\n",
              "      <td>166</td>\n",
              "    </tr>\n",
              "    <tr>\n",
              "      <th>2</th>\n",
              "      <td>55111</td>\n",
              "      <td>Fontielas Houses |Floor1 in House with shared ...</td>\n",
              "      <td>259711</td>\n",
              "      <td>Isabel E João</td>\n",
              "      <td>PAREDES</td>\n",
              "      <td>Cete</td>\n",
              "      <td>41.17481</td>\n",
              "      <td>-8.35362</td>\n",
              "      <td>Entire home/apt</td>\n",
              "      <td>66</td>\n",
              "      <td>3</td>\n",
              "      <td>14</td>\n",
              "      <td>2019-09-07</td>\n",
              "      <td>0.21</td>\n",
              "      <td>3</td>\n",
              "      <td>0</td>\n",
              "    </tr>\n",
              "    <tr>\n",
              "      <th>3</th>\n",
              "      <td>73828</td>\n",
              "      <td>Fontielas Houses |Floor0 in House with shared ...</td>\n",
              "      <td>259711</td>\n",
              "      <td>Isabel E João</td>\n",
              "      <td>PAREDES</td>\n",
              "      <td>Cete</td>\n",
              "      <td>41.17449</td>\n",
              "      <td>-8.35426</td>\n",
              "      <td>Entire home/apt</td>\n",
              "      <td>66</td>\n",
              "      <td>3</td>\n",
              "      <td>8</td>\n",
              "      <td>2019-07-22</td>\n",
              "      <td>0.11</td>\n",
              "      <td>3</td>\n",
              "      <td>0</td>\n",
              "    </tr>\n",
              "    <tr>\n",
              "      <th>4</th>\n",
              "      <td>76436</td>\n",
              "      <td>Go2oporto @ River Side</td>\n",
              "      <td>399503</td>\n",
              "      <td>Go2oporto</td>\n",
              "      <td>PORTO</td>\n",
              "      <td>Cedofeita, Ildefonso, Sé, Miragaia, Nicolau, V...</td>\n",
              "      <td>41.13951</td>\n",
              "      <td>-8.61453</td>\n",
              "      <td>Entire home/apt</td>\n",
              "      <td>137</td>\n",
              "      <td>2</td>\n",
              "      <td>184</td>\n",
              "      <td>2020-08-13</td>\n",
              "      <td>1.63</td>\n",
              "      <td>13</td>\n",
              "      <td>358</td>\n",
              "    </tr>\n",
              "  </tbody>\n",
              "</table>\n",
              "</div>"
            ],
            "text/plain": [
              "      id  ... availability_365\n",
              "0  41339  ...              222\n",
              "1  42462  ...              166\n",
              "2  55111  ...                0\n",
              "3  73828  ...                0\n",
              "4  76436  ...              358\n",
              "\n",
              "[5 rows x 16 columns]"
            ]
          },
          "metadata": {
            "tags": []
          },
          "execution_count": 4
        }
      ]
    },
    {
      "cell_type": "markdown",
      "metadata": {
        "id": "b0U8TOSxfPXS"
      },
      "source": [
        "##Q1. Quantos atributos (variáveis) e quantas entradas o nosso conjunto de dados possui? Quais os tipos das variáveis? \n",
        "\n",
        "Vamos prosseguir e identificar a quantidade de entradas que nosso conjunto de dados possui e ver os tipos de cada coluna.\n",
        "\n",
        "Este dataset que baixamos é a versão \"resumida\" disponibilizada pelo Airbnb. Na mesma página, há uma versão mais completa com 35847 entradas e 106 variáveis(listings.csv.gz)."
      ]
    },
    {
      "cell_type": "code",
      "metadata": {
        "colab": {
          "base_uri": "https://localhost:8080/",
          "height": 334
        },
        "id": "gEpEqez-hmur",
        "outputId": "76830d93-ba36-4a49-9cdb-d965d09e37c0"
      },
      "source": [
        "#identificar o volume de dados do DataFrame\n",
        "print(f'Entradas:\\t{df.shape[0]}')\n",
        "print(f'Variáveis:\\t{df.shape[1]}')\n",
        "\n",
        "#verificar as 5 primeiras entradas do dataset\n",
        "display(df.dtypes)"
      ],
      "execution_count": 5,
      "outputs": [
        {
          "output_type": "stream",
          "text": [
            "Entradas:\t11128\n",
            "Variáveis:\t16\n"
          ],
          "name": "stdout"
        },
        {
          "output_type": "display_data",
          "data": {
            "text/plain": [
              "id                                  int64\n",
              "name                               object\n",
              "host_id                             int64\n",
              "host_name                          object\n",
              "neighbourhood_group                object\n",
              "neighbourhood                      object\n",
              "latitude                          float64\n",
              "longitude                         float64\n",
              "room_type                          object\n",
              "price                               int64\n",
              "minimum_nights                      int64\n",
              "number_of_reviews                   int64\n",
              "last_review                        object\n",
              "reviews_per_month                 float64\n",
              "calculated_host_listings_count      int64\n",
              "availability_365                    int64\n",
              "dtype: object"
            ]
          },
          "metadata": {
            "tags": []
          }
        }
      ]
    },
    {
      "cell_type": "code",
      "metadata": {
        "colab": {
          "base_uri": "https://localhost:8080/"
        },
        "id": "MYqYtCBs2_Rs",
        "outputId": "a12163e7-e1ad-4b64-8be1-febd0817411d"
      },
      "source": [
        "#na próxima parte da análise exploraremos os dados ausentes do nosso dataframe\n",
        "df.isnull().sum()"
      ],
      "execution_count": 7,
      "outputs": [
        {
          "output_type": "execute_result",
          "data": {
            "text/plain": [
              "id                                   0\n",
              "name                                 1\n",
              "host_id                              0\n",
              "host_name                            4\n",
              "neighbourhood_group                  0\n",
              "neighbourhood                        0\n",
              "latitude                             0\n",
              "longitude                            0\n",
              "room_type                            0\n",
              "price                                0\n",
              "minimum_nights                       0\n",
              "number_of_reviews                    0\n",
              "last_review                       2040\n",
              "reviews_per_month                 2040\n",
              "calculated_host_listings_count       0\n",
              "availability_365                     0\n",
              "dtype: int64"
            ]
          },
          "metadata": {
            "tags": []
          },
          "execution_count": 7
        }
      ]
    },
    {
      "cell_type": "markdown",
      "metadata": {
        "id": "J5Pqa7mB07d3"
      },
      "source": [
        "##Q2. Qual a porcentagem de valores ausentes no dataset?\n",
        "\n",
        "A qualidade de um dataset está diretamente relacionada à quantidade de valores ausentes. É importante entender logo no início se esses valores nulos são significativos para nossa análise.\n",
        "\n",
        "* As variáveis reviews_per_month e last_review possuem os valores nulos em quase 20% das linhas.\n"
      ]
    },
    {
      "cell_type": "code",
      "metadata": {
        "colab": {
          "base_uri": "https://localhost:8080/"
        },
        "id": "YNM4MGaih2s_",
        "outputId": "d2c6ba21-db6d-4cbb-9f9b-2bceb685eb81"
      },
      "source": [
        "#ordenar em ordem decrescente as variáveis por seus valores ausentes\n",
        "print('Porcentagem do meu dataset que está com valores ausentes (separado por linha):')\n",
        "print()\n",
        "(df.isnull().sum() / df.shape[0]).sort_values(ascending=False) * 100"
      ],
      "execution_count": 10,
      "outputs": [
        {
          "output_type": "stream",
          "text": [
            "Porcentagem do meu dataset que está com valores ausentes (separado por linha):\n",
            "\n"
          ],
          "name": "stdout"
        },
        {
          "output_type": "execute_result",
          "data": {
            "text/plain": [
              "reviews_per_month                 18.332135\n",
              "last_review                       18.332135\n",
              "host_name                          0.035945\n",
              "name                               0.008986\n",
              "availability_365                   0.000000\n",
              "calculated_host_listings_count     0.000000\n",
              "number_of_reviews                  0.000000\n",
              "minimum_nights                     0.000000\n",
              "price                              0.000000\n",
              "room_type                          0.000000\n",
              "longitude                          0.000000\n",
              "latitude                           0.000000\n",
              "neighbourhood                      0.000000\n",
              "neighbourhood_group                0.000000\n",
              "host_id                            0.000000\n",
              "id                                 0.000000\n",
              "dtype: float64"
            ]
          },
          "metadata": {
            "tags": []
          },
          "execution_count": 10
        }
      ]
    },
    {
      "cell_type": "markdown",
      "metadata": {
        "id": "Y6QqbByZ3uiF"
      },
      "source": [
        "##Q3. Qual o tipo de distribuição das variáveis?\n",
        "\n",
        "Para identificar a distribuição das variáveis, plotamos a seguir um histograma para melhor visualização dos dados."
      ]
    },
    {
      "cell_type": "code",
      "metadata": {
        "colab": {
          "base_uri": "https://localhost:8080/",
          "height": 607
        },
        "id": "SIkjKadc2oRm",
        "outputId": "8cd69065-b49c-42b6-be53-2ad12472404e"
      },
      "source": [
        "#plotar o histograma daa variáveis numéricas\n",
        "df.hist(bins=15, figsize=(15, 10));"
      ],
      "execution_count": 12,
      "outputs": [
        {
          "output_type": "display_data",
          "data": {
            "image/png": "[encoded data removed]",
            "text/plain": [
              "<Figure size 1080x720 with 12 Axes>"
            ]
          },
          "metadata": {
            "tags": [],
            "needs_background": "light"
          }
        }
      ]
    },
    {
      "cell_type": "markdown",
      "metadata": {
        "id": "CkSuA6QY5G9P"
      },
      "source": [
        "##Q3. Há outliers presentes? \n",
        "\n",
        "Pela distribuição desse histograma é possível verificar indícios da presença de outliers(dados 'fora da curva'). Olhe, por exemplo, os gráficos da variável **price**, **minimum_nights** e **calculated_host_listings_count**. \n",
        "\n",
        "Os valores acabam distorcendo completamente os dados. Por exemplo na variável price, os preços variam entre 0 e mais de 10k euros a diária!!!\n",
        "\n"
      ]
    },
    {
      "cell_type": "code",
      "metadata": {
        "colab": {
          "base_uri": "https://localhost:8080/",
          "height": 286
        },
        "id": "6EZcGjN-4JBz",
        "outputId": "ad015b32-a7c9-4eef-8d7c-efb2a5fa5236"
      },
      "source": [
        "#ver o resumo estatístico das variáveis numéricas (usando o método \"describe\")\n",
        "df[['price', 'minimum_nights', 'number_of_reviews', 'reviews_per_month', 'calculated_host_listings_count', 'availability_365']].describe()"
      ],
      "execution_count": 14,
      "outputs": [
        {
          "output_type": "execute_result",
          "data": {
            "text/html": [
              "<div>\n",
              "<style scoped>\n",
              "    .dataframe tbody tr th:only-of-type {\n",
              "        vertical-align: middle;\n",
              "    }\n",
              "\n",
              "    .dataframe tbody tr th {\n",
              "        vertical-align: top;\n",
              "    }\n",
              "\n",
              "    .dataframe thead th {\n",
              "        text-align: right;\n",
              "    }\n",
              "</style>\n",
              "<table border=\"1\" class=\"dataframe\">\n",
              "  <thead>\n",
              "    <tr style=\"text-align: right;\">\n",
              "      <th></th>\n",
              "      <th>price</th>\n",
              "      <th>minimum_nights</th>\n",
              "      <th>number_of_reviews</th>\n",
              "      <th>reviews_per_month</th>\n",
              "      <th>calculated_host_listings_count</th>\n",
              "      <th>availability_365</th>\n",
              "    </tr>\n",
              "  </thead>\n",
              "  <tbody>\n",
              "    <tr>\n",
              "      <th>count</th>\n",
              "      <td>11128.000000</td>\n",
              "      <td>11128.00000</td>\n",
              "      <td>11128.000000</td>\n",
              "      <td>9088.000000</td>\n",
              "      <td>11128.000000</td>\n",
              "      <td>11128.000000</td>\n",
              "    </tr>\n",
              "    <tr>\n",
              "      <th>mean</th>\n",
              "      <td>78.373113</td>\n",
              "      <td>3.12518</td>\n",
              "      <td>41.500090</td>\n",
              "      <td>1.267349</td>\n",
              "      <td>10.317937</td>\n",
              "      <td>226.730050</td>\n",
              "    </tr>\n",
              "    <tr>\n",
              "      <th>std</th>\n",
              "      <td>297.711681</td>\n",
              "      <td>15.87678</td>\n",
              "      <td>69.412309</td>\n",
              "      <td>1.361272</td>\n",
              "      <td>20.100679</td>\n",
              "      <td>141.392307</td>\n",
              "    </tr>\n",
              "    <tr>\n",
              "      <th>min</th>\n",
              "      <td>8.000000</td>\n",
              "      <td>1.00000</td>\n",
              "      <td>0.000000</td>\n",
              "      <td>0.010000</td>\n",
              "      <td>1.000000</td>\n",
              "      <td>0.000000</td>\n",
              "    </tr>\n",
              "    <tr>\n",
              "      <th>25%</th>\n",
              "      <td>35.000000</td>\n",
              "      <td>1.00000</td>\n",
              "      <td>1.000000</td>\n",
              "      <td>0.230000</td>\n",
              "      <td>1.000000</td>\n",
              "      <td>89.000000</td>\n",
              "    </tr>\n",
              "    <tr>\n",
              "      <th>50%</th>\n",
              "      <td>52.000000</td>\n",
              "      <td>2.00000</td>\n",
              "      <td>12.000000</td>\n",
              "      <td>0.740000</td>\n",
              "      <td>4.000000</td>\n",
              "      <td>278.000000</td>\n",
              "    </tr>\n",
              "    <tr>\n",
              "      <th>75%</th>\n",
              "      <td>75.000000</td>\n",
              "      <td>2.00000</td>\n",
              "      <td>51.000000</td>\n",
              "      <td>1.900000</td>\n",
              "      <td>8.000000</td>\n",
              "      <td>361.000000</td>\n",
              "    </tr>\n",
              "    <tr>\n",
              "      <th>max</th>\n",
              "      <td>16042.000000</td>\n",
              "      <td>1123.00000</td>\n",
              "      <td>675.000000</td>\n",
              "      <td>9.610000</td>\n",
              "      <td>124.000000</td>\n",
              "      <td>365.000000</td>\n",
              "    </tr>\n",
              "  </tbody>\n",
              "</table>\n",
              "</div>"
            ],
            "text/plain": [
              "              price  ...  availability_365\n",
              "count  11128.000000  ...      11128.000000\n",
              "mean      78.373113  ...        226.730050\n",
              "std      297.711681  ...        141.392307\n",
              "min        8.000000  ...          0.000000\n",
              "25%       35.000000  ...         89.000000\n",
              "50%       52.000000  ...        278.000000\n",
              "75%       75.000000  ...        361.000000\n",
              "max    16042.000000  ...        365.000000\n",
              "\n",
              "[8 rows x 6 columns]"
            ]
          },
          "metadata": {
            "tags": []
          },
          "execution_count": 14
        }
      ]
    },
    {
      "cell_type": "markdown",
      "metadata": {
        "id": "vOtQBGVYdNey"
      },
      "source": [
        "###Através do resumo estatístico acima, podemos confirmar algumas hipóteses como:\n",
        "\n",
        "* a variável __price__ possui 75% do valor acbaixo de 75 euros, porém há a ocorrência de outliers onde a diária chega amais de 16 mil euros!!\n",
        "\n",
        "* há uma diferença de mais de 200 euros entre a média e a mediana dos preços justamente pela presença desses outliers.\n",
        "\n",
        "* há anfitriões que solicitam o mínimo de 1123 dias de hospedagem.\n",
        "\n",
        "Então o que fazer para resolver esse problema??? \n",
        "\n",
        "<img src=\"https://markpedder.files.wordpress.com/2016/04/creative-thinking.jpg?w=339&zoom=2\" width=\"200px\">\n",
        "\n"
      ]
    },
    {
      "cell_type": "markdown",
      "metadata": {
        "id": "pdxcqKbqhYZN"
      },
      "source": [
        "###Boxplot para **minimum_nights**"
      ]
    },
    {
      "cell_type": "code",
      "metadata": {
        "colab": {
          "base_uri": "https://localhost:8080/",
          "height": 278
        },
        "id": "lqQEVHr86zjY",
        "outputId": "79d63be8-b6a1-4836-a3b4-ef15939f360b"
      },
      "source": [
        "#coluna minimum_nights\n",
        "df.minimum_nights.plot(kind='box', vert=False, figsize=(15, 3))\n",
        "plt.show()\n",
        "print()\n",
        "\n",
        "#ver a quantidade de valores acima de 5 dias para minimun_nights\n",
        "print('Valores acima de 5 dias da variável MINIMUM_NIGHTS:')\n",
        "print(f'São somente {len(df[df.minimum_nights > 5]):.0f} entradas com mais de 5 dias de hospedagem mínima.')\n",
        "print(f'Esses dados equivalem a somente {len(df[df.minimum_nights > 5]) / df.shape[0] * 100:.2f}% de toda a amostra.')"
      ],
      "execution_count": 33,
      "outputs": [
        {
          "output_type": "display_data",
          "data": {
            "image/png": "[encoded data removed]",
            "text/plain": [
              "<Figure size 1080x216 with 1 Axes>"
            ]
          },
          "metadata": {
            "tags": [],
            "needs_background": "light"
          }
        },
        {
          "output_type": "stream",
          "text": [
            "\n",
            "Valores acima de 5 dias da variável MINIMUM_NIGHTS:\n",
            "São somente 477 entradas com mais de 5 dias de hospedagem mínima.\n",
            "Esses dados equivalem a somente 4.29% de toda a amostra.\n"
          ],
          "name": "stdout"
        }
      ]
    },
    {
      "cell_type": "markdown",
      "metadata": {
        "id": "-SxKCvcLl1Zs"
      },
      "source": [
        "###Boxplot para **price**"
      ]
    },
    {
      "cell_type": "code",
      "metadata": {
        "colab": {
          "base_uri": "https://localhost:8080/",
          "height": 278
        },
        "id": "FnZkOIa3bY-i",
        "outputId": "2d0a0f6c-05c8-404a-c21d-c2c03d1da841"
      },
      "source": [
        "#coluna price\n",
        "df.price.plot(kind='box', vert=False, figsize=(15, 3))\n",
        "plt.show()\n",
        "print()\n",
        "\n",
        "#ver a quantidade de valores acima de 30 dias para minimun_nights\n",
        "print('Valores acima de 150 euros da variável PRICE:')\n",
        "print(f'São somente {len(df[df.price > 100]):.0f} entradas com valor acima de 100 euros a diária.')\n",
        "print(f'Esses dados equivalem a somente {len(df[df.price > 100]) / df.shape[0] * 100:.2f}% de toda a amostra.')"
      ],
      "execution_count": 26,
      "outputs": [
        {
          "output_type": "display_data",
          "data": {
            "image/png": "[encoded data removed]",
            "text/plain": [
              "<Figure size 1080x216 with 1 Axes>"
            ]
          },
          "metadata": {
            "tags": [],
            "needs_background": "light"
          }
        },
        {
          "output_type": "stream",
          "text": [
            "\n",
            "Valores acima de 150 euros da variável PRICE:\n",
            "São somente 1389 entradas com valor acima de 100 euros a diária.\n",
            "Esses dados equivalem a somente 12.48% de toda a amostra.\n"
          ],
          "name": "stdout"
        }
      ]
    },
    {
      "cell_type": "markdown",
      "metadata": {
        "id": "AxkpXJw0nr14"
      },
      "source": [
        "###Histogramas sem _outliers_\n",
        "\n",
        "Já que identificamos outliers nas variáveis __price__ e __minimum_nights__, vamos agora \"limpá-los\" de nosso DataFrame e plotar o histograma atualizado."
      ]
    },
    {
      "cell_type": "code",
      "metadata": {
        "colab": {
          "base_uri": "https://localhost:8080/",
          "height": 607
        },
        "id": "BkSmORU3mypO",
        "outputId": "7cd2fc1e-9b9b-43c6-fe29-3da6ca570611"
      },
      "source": [
        "#remover os *outliers* em um novo DataFrame\n",
        "df_clean = df.copy()\n",
        "df_clean.drop(df_clean[df_clean.price > 100].index, axis=0, inplace=True )\n",
        "df_clean.drop(df_clean[df_clean.minimum_nights > 5].index, axis=0, inplace=True)\n",
        "\n",
        "#plotar o histograma para as variáveis numéricas\n",
        "df_clean.hist(bins=15, figsize=(15, 10));"
      ],
      "execution_count": 30,
      "outputs": [
        {
          "output_type": "display_data",
          "data": {
            "image/png": "[encoded data removed]",
            "text/plain": [
              "<Figure size 1080x720 with 12 Axes>"
            ]
          },
          "metadata": {
            "tags": [],
            "needs_background": "light"
          }
        }
      ]
    },
    {
      "cell_type": "markdown",
      "metadata": {
        "id": "JMMbmVo063Yb"
      },
      "source": [
        "###Também podemos visualizar o método _describe()_ atualizado com esse novo DataFrame\n",
        "\n",
        "Perceba o quão mais *clean* está agora. Podemos visualizar que:\n",
        "\n",
        "* 75% das opções para locação estão abaixo de 65 euros;\n",
        "\n",
        "* a média caiu para 50 euros e a mediana está abaixo de 22 euros;"
      ]
    },
    {
      "cell_type": "code",
      "metadata": {
        "colab": {
          "base_uri": "https://localhost:8080/",
          "height": 286
        },
        "id": "TlAKbCQX7EvF",
        "outputId": "95049653-dba3-4eb8-9158-8fc220cb8853"
      },
      "source": [
        "#ver o resumo estatístico das variáveis numéricas (usando o método \"describe\")\n",
        "df_clean[['price', 'minimum_nights', 'number_of_reviews', 'reviews_per_month', 'calculated_host_listings_count', 'availability_365']].describe()"
      ],
      "execution_count": 57,
      "outputs": [
        {
          "output_type": "execute_result",
          "data": {
            "text/html": [
              "<div>\n",
              "<style scoped>\n",
              "    .dataframe tbody tr th:only-of-type {\n",
              "        vertical-align: middle;\n",
              "    }\n",
              "\n",
              "    .dataframe tbody tr th {\n",
              "        vertical-align: top;\n",
              "    }\n",
              "\n",
              "    .dataframe thead th {\n",
              "        text-align: right;\n",
              "    }\n",
              "</style>\n",
              "<table border=\"1\" class=\"dataframe\">\n",
              "  <thead>\n",
              "    <tr style=\"text-align: right;\">\n",
              "      <th></th>\n",
              "      <th>price</th>\n",
              "      <th>minimum_nights</th>\n",
              "      <th>number_of_reviews</th>\n",
              "      <th>reviews_per_month</th>\n",
              "      <th>calculated_host_listings_count</th>\n",
              "      <th>availability_365</th>\n",
              "    </tr>\n",
              "  </thead>\n",
              "  <tbody>\n",
              "    <tr>\n",
              "      <th>count</th>\n",
              "      <td>9322.000000</td>\n",
              "      <td>9322.000000</td>\n",
              "      <td>9322.000000</td>\n",
              "      <td>7786.000000</td>\n",
              "      <td>9322.000000</td>\n",
              "      <td>9322.000000</td>\n",
              "    </tr>\n",
              "    <tr>\n",
              "      <th>mean</th>\n",
              "      <td>50.606415</td>\n",
              "      <td>1.880927</td>\n",
              "      <td>44.391225</td>\n",
              "      <td>1.341861</td>\n",
              "      <td>10.568226</td>\n",
              "      <td>225.842738</td>\n",
              "    </tr>\n",
              "    <tr>\n",
              "      <th>std</th>\n",
              "      <td>21.714706</td>\n",
              "      <td>0.809359</td>\n",
              "      <td>70.641986</td>\n",
              "      <td>1.391899</td>\n",
              "      <td>20.101670</td>\n",
              "      <td>141.447104</td>\n",
              "    </tr>\n",
              "    <tr>\n",
              "      <th>min</th>\n",
              "      <td>8.000000</td>\n",
              "      <td>1.000000</td>\n",
              "      <td>0.000000</td>\n",
              "      <td>0.010000</td>\n",
              "      <td>1.000000</td>\n",
              "      <td>0.000000</td>\n",
              "    </tr>\n",
              "    <tr>\n",
              "      <th>25%</th>\n",
              "      <td>34.000000</td>\n",
              "      <td>1.000000</td>\n",
              "      <td>2.000000</td>\n",
              "      <td>0.270000</td>\n",
              "      <td>1.000000</td>\n",
              "      <td>89.000000</td>\n",
              "    </tr>\n",
              "    <tr>\n",
              "      <th>50%</th>\n",
              "      <td>49.000000</td>\n",
              "      <td>2.000000</td>\n",
              "      <td>14.000000</td>\n",
              "      <td>0.820000</td>\n",
              "      <td>4.000000</td>\n",
              "      <td>274.000000</td>\n",
              "    </tr>\n",
              "    <tr>\n",
              "      <th>75%</th>\n",
              "      <td>65.000000</td>\n",
              "      <td>2.000000</td>\n",
              "      <td>57.000000</td>\n",
              "      <td>2.020000</td>\n",
              "      <td>9.000000</td>\n",
              "      <td>361.000000</td>\n",
              "    </tr>\n",
              "    <tr>\n",
              "      <th>max</th>\n",
              "      <td>100.000000</td>\n",
              "      <td>5.000000</td>\n",
              "      <td>675.000000</td>\n",
              "      <td>9.610000</td>\n",
              "      <td>124.000000</td>\n",
              "      <td>365.000000</td>\n",
              "    </tr>\n",
              "  </tbody>\n",
              "</table>\n",
              "</div>"
            ],
            "text/plain": [
              "             price  ...  availability_365\n",
              "count  9322.000000  ...       9322.000000\n",
              "mean     50.606415  ...        225.842738\n",
              "std      21.714706  ...        141.447104\n",
              "min       8.000000  ...          0.000000\n",
              "25%      34.000000  ...         89.000000\n",
              "50%      49.000000  ...        274.000000\n",
              "75%      65.000000  ...        361.000000\n",
              "max     100.000000  ...        365.000000\n",
              "\n",
              "[8 rows x 6 columns]"
            ]
          },
          "metadata": {
            "tags": []
          },
          "execution_count": 57
        }
      ]
    },
    {
      "cell_type": "markdown",
      "metadata": {
        "id": "nFKhO_W-wRje"
      },
      "source": [
        "##Q4. Qual a correlação existente entre as variáveis\n",
        "\n",
        "Correlação significa que existe uma relação entre duas coisas. No nosso contexto estamos buscando relação entre duas variáveis.\n",
        "\n",
        "Essa relação pode ser medida e é função do coeficiente de correlação estabelecer qual a intensidade dela. Para identificar as correlações existentes entre as variáveis de interesse, vamos: \n",
        "\n",
        "* criar uma matriz de correlação\n",
        "\n",
        "* gerar um heatmap (mapa de calor) a partir dessa matriz usando a biblioteca _seaborn_"
      ]
    },
    {
      "cell_type": "code",
      "metadata": {
        "colab": {
          "base_uri": "https://localhost:8080/",
          "height": 246
        },
        "id": "hQa8YNBHxNsg",
        "outputId": "1d089d43-9a8b-426e-d45b-fb4496129c01"
      },
      "source": [
        "#criar uma matriz de correlação\n",
        "corr = df_clean[['price', 'minimum_nights', 'number_of_reviews', 'reviews_per_month', 'calculated_host_listings_count', 'availability_365']].corr()\n",
        "\n",
        "display(corr)"
      ],
      "execution_count": 35,
      "outputs": [
        {
          "output_type": "display_data",
          "data": {
            "text/html": [
              "<div>\n",
              "<style scoped>\n",
              "    .dataframe tbody tr th:only-of-type {\n",
              "        vertical-align: middle;\n",
              "    }\n",
              "\n",
              "    .dataframe tbody tr th {\n",
              "        vertical-align: top;\n",
              "    }\n",
              "\n",
              "    .dataframe thead th {\n",
              "        text-align: right;\n",
              "    }\n",
              "</style>\n",
              "<table border=\"1\" class=\"dataframe\">\n",
              "  <thead>\n",
              "    <tr style=\"text-align: right;\">\n",
              "      <th></th>\n",
              "      <th>price</th>\n",
              "      <th>minimum_nights</th>\n",
              "      <th>number_of_reviews</th>\n",
              "      <th>reviews_per_month</th>\n",
              "      <th>calculated_host_listings_count</th>\n",
              "      <th>availability_365</th>\n",
              "    </tr>\n",
              "  </thead>\n",
              "  <tbody>\n",
              "    <tr>\n",
              "      <th>price</th>\n",
              "      <td>1.000000</td>\n",
              "      <td>0.072118</td>\n",
              "      <td>-0.151630</td>\n",
              "      <td>-0.236632</td>\n",
              "      <td>-0.000512</td>\n",
              "      <td>0.059625</td>\n",
              "    </tr>\n",
              "    <tr>\n",
              "      <th>minimum_nights</th>\n",
              "      <td>0.072118</td>\n",
              "      <td>1.000000</td>\n",
              "      <td>0.018072</td>\n",
              "      <td>-0.090898</td>\n",
              "      <td>-0.120610</td>\n",
              "      <td>-0.100599</td>\n",
              "    </tr>\n",
              "    <tr>\n",
              "      <th>number_of_reviews</th>\n",
              "      <td>-0.151630</td>\n",
              "      <td>0.018072</td>\n",
              "      <td>1.000000</td>\n",
              "      <td>0.824462</td>\n",
              "      <td>-0.082891</td>\n",
              "      <td>0.018751</td>\n",
              "    </tr>\n",
              "    <tr>\n",
              "      <th>reviews_per_month</th>\n",
              "      <td>-0.236632</td>\n",
              "      <td>-0.090898</td>\n",
              "      <td>0.824462</td>\n",
              "      <td>1.000000</td>\n",
              "      <td>-0.020372</td>\n",
              "      <td>0.062571</td>\n",
              "    </tr>\n",
              "    <tr>\n",
              "      <th>calculated_host_listings_count</th>\n",
              "      <td>-0.000512</td>\n",
              "      <td>-0.120610</td>\n",
              "      <td>-0.082891</td>\n",
              "      <td>-0.020372</td>\n",
              "      <td>1.000000</td>\n",
              "      <td>0.092715</td>\n",
              "    </tr>\n",
              "    <tr>\n",
              "      <th>availability_365</th>\n",
              "      <td>0.059625</td>\n",
              "      <td>-0.100599</td>\n",
              "      <td>0.018751</td>\n",
              "      <td>0.062571</td>\n",
              "      <td>0.092715</td>\n",
              "      <td>1.000000</td>\n",
              "    </tr>\n",
              "  </tbody>\n",
              "</table>\n",
              "</div>"
            ],
            "text/plain": [
              "                                   price  ...  availability_365\n",
              "price                           1.000000  ...          0.059625\n",
              "minimum_nights                  0.072118  ...         -0.100599\n",
              "number_of_reviews              -0.151630  ...          0.018751\n",
              "reviews_per_month              -0.236632  ...          0.062571\n",
              "calculated_host_listings_count -0.000512  ...          0.092715\n",
              "availability_365                0.059625  ...          1.000000\n",
              "\n",
              "[6 rows x 6 columns]"
            ]
          },
          "metadata": {
            "tags": []
          }
        }
      ]
    },
    {
      "cell_type": "code",
      "metadata": {
        "colab": {
          "base_uri": "https://localhost:8080/",
          "height": 411
        },
        "id": "zGN12tLoxtE5",
        "outputId": "14522a07-9dab-436d-dd02-87528976dc00"
      },
      "source": [
        "#mapa de calor (heatmap)\n",
        "sns.heatmap(corr, cmap='RdBu', fmt='.2f', square=True, linecolor='white', annot=True);"
      ],
      "execution_count": 37,
      "outputs": [
        {
          "output_type": "display_data",
          "data": {
            "image/png": "[encoded data removed]",
            "text/plain": [
              "<Figure size 432x288 with 2 Axes>"
            ]
          },
          "metadata": {
            "tags": [],
            "needs_background": "light"
          }
        }
      ]
    },
    {
      "cell_type": "markdown",
      "metadata": {
        "id": "d5gsfYZXyvJ1"
      },
      "source": [
        "##Q5. Qual o tipo de imóvel mais alugado no Airbnb?\n",
        "\n",
        "A coluna da variável _room_type_ indica o tipo de locação que está anunciada no Airbnb. Se você já alugou no site, sabe que existem opções de apartamentos/casas inteiras, apenas o aluguel de um querto ou mesmo dividir o quarto com outras pessoas.\n",
        "\n",
        "Vamos contar a quantidade de ocorrências de cada tipo de aluguel, usando o método _value_counts()_."
      ]
    },
    {
      "cell_type": "code",
      "metadata": {
        "colab": {
          "base_uri": "https://localhost:8080/"
        },
        "id": "566ipNx5z-4o",
        "outputId": "52b96b6f-a0de-4104-8e76-9b4f3e51fb86"
      },
      "source": [
        "#mostrar a quantidade de cada tipo de imóvel disponível para locação\n",
        "df_clean.room_type.value_counts()"
      ],
      "execution_count": 38,
      "outputs": [
        {
          "output_type": "execute_result",
          "data": {
            "text/plain": [
              "Entire home/apt    7062\n",
              "Private room       1968\n",
              "Hotel room          169\n",
              "Shared room         123\n",
              "Name: room_type, dtype: int64"
            ]
          },
          "metadata": {
            "tags": []
          },
          "execution_count": 38
        }
      ]
    },
    {
      "cell_type": "code",
      "metadata": {
        "colab": {
          "base_uri": "https://localhost:8080/"
        },
        "id": "fdvm7U2b0IsW",
        "outputId": "123a6234-21b1-4bbd-8d7b-05a08a792187"
      },
      "source": [
        "#mostrar a porcentagem de cada tipo de imóvel disponível\n",
        "print('tipo de locação\\t       %')\n",
        "print('-' * 30)\n",
        "df_clean.room_type.value_counts() / df_clean.shape[0] * 100\n"
      ],
      "execution_count": 51,
      "outputs": [
        {
          "output_type": "stream",
          "text": [
            "tipo de locação\t       %\n",
            "------------------------------\n"
          ],
          "name": "stdout"
        },
        {
          "output_type": "execute_result",
          "data": {
            "text/plain": [
              "Entire home/apt    75.756275\n",
              "Private room       21.111349\n",
              "Hotel room          1.812916\n",
              "Shared room         1.319459\n",
              "Name: room_type, dtype: float64"
            ]
          },
          "metadata": {
            "tags": []
          },
          "execution_count": 51
        }
      ]
    },
    {
      "cell_type": "markdown",
      "metadata": {
        "id": "Oh3FZ3R_1x8m"
      },
      "source": [
        "##Q6. Qual é a localidade mais cara de Porto?\n",
        "\n",
        "Uma das maneiras de se verificar uma variável em função da outra é usando _group_by()_. No caso, queremos comparar os bairros (_neighbourhoods_) a partir do preço de locação."
      ]
    },
    {
      "cell_type": "code",
      "metadata": {
        "colab": {
          "base_uri": "https://localhost:8080/"
        },
        "id": "IMvsZ4uT0hwQ",
        "outputId": "c23e8fef-c0be-4aae-fcfd-4ca59db88663"
      },
      "source": [
        "df_clean.groupby(['neighbourhood']).price.mean().sort_values(ascending=False)[:10]"
      ],
      "execution_count": 52,
      "outputs": [
        {
          "output_type": "execute_result",
          "data": {
            "text/plain": [
              "neighbourhood\n",
              "Alvarelhos e Guidões         100.000000\n",
              "Fajozes                       95.000000\n",
              "Santa Eulália                 91.000000\n",
              "Alvarenga                     90.000000\n",
              "Moldes                        86.000000\n",
              "Covelo de Paivó e Janarde     85.000000\n",
              "Sobreira                      85.000000\n",
              "Lamelas e Guimarei            84.000000\n",
              "Macieira de Cambra            83.285714\n",
              "Muro                          81.500000\n",
              "Name: price, dtype: float64"
            ]
          },
          "metadata": {
            "tags": []
          },
          "execution_count": 52
        }
      ]
    },
    {
      "cell_type": "markdown",
      "metadata": {
        "id": "TN0NBvxZ24zf"
      },
      "source": [
        "###Acima vemos que os bairros **Alvarelhos e Guidões**, **Fajozes**, **Santa Eulália** e **Alvarenga** são os que possuem as maiores médias.\n",
        "\n",
        "Mas será que isso é suficiente para dizermos com certeza que são os locais mais caros de Porto ou somente são casos isolados?"
      ]
    },
    {
      "cell_type": "code",
      "metadata": {
        "colab": {
          "base_uri": "https://localhost:8080/",
          "height": 311
        },
        "id": "WFm2NJCU2gSP",
        "outputId": "869a596a-a960-45df-8adb-593bc4a11ef5"
      },
      "source": [
        "#ver a quantidade de imóveis no bairro Alvarelhos e Guidões\n",
        "print(df_clean[df_clean.neighbourhood == \"Alvarelhos e Guidões\"].shape)\n",
        "\n",
        "#ver as 2 entradas de locação desse bairro\n",
        "df_clean[df_clean.neighbourhood == \"Alvarelhos e Guidões\"]"
      ],
      "execution_count": 54,
      "outputs": [
        {
          "output_type": "stream",
          "text": [
            "(2, 16)\n"
          ],
          "name": "stdout"
        },
        {
          "output_type": "execute_result",
          "data": {
            "text/html": [
              "<div>\n",
              "<style scoped>\n",
              "    .dataframe tbody tr th:only-of-type {\n",
              "        vertical-align: middle;\n",
              "    }\n",
              "\n",
              "    .dataframe tbody tr th {\n",
              "        vertical-align: top;\n",
              "    }\n",
              "\n",
              "    .dataframe thead th {\n",
              "        text-align: right;\n",
              "    }\n",
              "</style>\n",
              "<table border=\"1\" class=\"dataframe\">\n",
              "  <thead>\n",
              "    <tr style=\"text-align: right;\">\n",
              "      <th></th>\n",
              "      <th>id</th>\n",
              "      <th>name</th>\n",
              "      <th>host_id</th>\n",
              "      <th>host_name</th>\n",
              "      <th>neighbourhood_group</th>\n",
              "      <th>neighbourhood</th>\n",
              "      <th>latitude</th>\n",
              "      <th>longitude</th>\n",
              "      <th>room_type</th>\n",
              "      <th>price</th>\n",
              "      <th>minimum_nights</th>\n",
              "      <th>number_of_reviews</th>\n",
              "      <th>last_review</th>\n",
              "      <th>reviews_per_month</th>\n",
              "      <th>calculated_host_listings_count</th>\n",
              "      <th>availability_365</th>\n",
              "    </tr>\n",
              "  </thead>\n",
              "  <tbody>\n",
              "    <tr>\n",
              "      <th>301</th>\n",
              "      <td>2083027</td>\n",
              "      <td>Casa da Adega - Arco Village- QA</td>\n",
              "      <td>10602021</td>\n",
              "      <td>Lucio</td>\n",
              "      <td>TROFA</td>\n",
              "      <td>Alvarelhos e Guidões</td>\n",
              "      <td>41.31074</td>\n",
              "      <td>-8.61901</td>\n",
              "      <td>Entire home/apt</td>\n",
              "      <td>100</td>\n",
              "      <td>2</td>\n",
              "      <td>27</td>\n",
              "      <td>2019-09-01</td>\n",
              "      <td>0.40</td>\n",
              "      <td>1</td>\n",
              "      <td>349</td>\n",
              "    </tr>\n",
              "    <tr>\n",
              "      <th>9552</th>\n",
              "      <td>42115738</td>\n",
              "      <td>Porto-Braga Country Side (Piscina privada)</td>\n",
              "      <td>334047684</td>\n",
              "      <td>Cristina</td>\n",
              "      <td>TROFA</td>\n",
              "      <td>Alvarelhos e Guidões</td>\n",
              "      <td>41.31201</td>\n",
              "      <td>-8.61620</td>\n",
              "      <td>Entire home/apt</td>\n",
              "      <td>100</td>\n",
              "      <td>2</td>\n",
              "      <td>16</td>\n",
              "      <td>2020-10-04</td>\n",
              "      <td>1.85</td>\n",
              "      <td>1</td>\n",
              "      <td>255</td>\n",
              "    </tr>\n",
              "  </tbody>\n",
              "</table>\n",
              "</div>"
            ],
            "text/plain": [
              "            id  ... availability_365\n",
              "301    2083027  ...              349\n",
              "9552  42115738  ...              255\n",
              "\n",
              "[2 rows x 16 columns]"
            ]
          },
          "metadata": {
            "tags": []
          },
          "execution_count": 54
        }
      ]
    },
    {
      "cell_type": "code",
      "metadata": {
        "colab": {
          "base_uri": "https://localhost:8080/",
          "height": 473
        },
        "id": "9k6qiqgf39bY",
        "outputId": "579c7136-f204-4719-b39d-1ee742c56c69"
      },
      "source": [
        "#plotar os imóveis pela latitude-longitude\n",
        "df_clean.plot(kind=\"scatter\", x='longitude', y='latitude', alpha=0.4, c=df_clean['price'], s=8, cmap=plt.get_cmap('jet'), figsize=(12, 8));"
      ],
      "execution_count": 56,
      "outputs": [
        {
          "output_type": "display_data",
          "data": {
            "image/png": "[encoded data removed]",
            "text/plain": [
              "<Figure size 864x576 with 2 Axes>"
            ]
          },
          "metadata": {
            "tags": [],
            "needs_background": "light"
          }
        }
      ]
    },
    {
      "cell_type": "markdown",
      "metadata": {
        "id": "gJSSxhDS5XYC"
      },
      "source": [
        "#Conclusão\n",
        "\n",
        "Isso é apenas uma análise superficial do banco de dados disponibilizado pelo Airbnb para mostrar o quão importante pode ser a manipulação correta de dados.\n",
        "\n",
        "Em todas as áreas o Cientista de Dados consegue tirar melhor proveito dos dados e transformá-los em informação relevante para uso, seja para obtenção de lucro(indústrias, comércio,...), seja para salvar vidas(área da saúde).\n",
        "\n",
        "Lembrando que esse DataFrame é uma versão resumida, podendo ser muito mais explorado futuramente.\n",
        "\n"
      ]
    }
  ]
}